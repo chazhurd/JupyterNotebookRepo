{
  "nbformat": 4,
  "nbformat_minor": 0,
  "metadata": {
    "kernelspec": {
      "display_name": "Python 3",
      "language": "python",
      "name": "python3"
    },
    "language_info": {
      "codemirror_mode": {
        "name": "ipython",
        "version": 3
      },
      "file_extension": ".py",
      "mimetype": "text/x-python",
      "name": "python",
      "nbconvert_exporter": "python",
      "pygments_lexer": "ipython3",
      "version": "3.7.3"
    },
    "colab": {
      "name": "Colab1.ipynb",
      "provenance": [],
      "collapsed_sections": [],
      "toc_visible": true,
      "machine_shape": "hm",
      "include_colab_link": true
    }
  },
  "cells": [
    {
      "cell_type": "markdown",
      "metadata": {
        "id": "view-in-github",
        "colab_type": "text"
      },
      "source": [
        "<a href=\"https://colab.research.google.com/github/chazhurd/LocalizationLab/blob/dev/Colab1.ipynb\" target=\"_parent\"><img src=\"https://colab.research.google.com/assets/colab-badge.svg\" alt=\"Open In Colab\"/></a>"
      ]
    },
    {
      "cell_type": "markdown",
      "metadata": {
        "id": "GTwDFnjHMk25",
        "colab_type": "text"
      },
      "source": [
        "#Colab 1: Learn to use Apache Spark with Python (30 points)\n",
        "\n",
        "In this lab you will learn how to use [Apache Spark](https://spark.apache.org) on a Colab enviroment."
      ]
    },
    {
      "cell_type": "markdown",
      "metadata": {
        "id": "eXQzA01OS_yQ",
        "colab_type": "text"
      },
      "source": [
        "### **Setup**"
      ]
    },
    {
      "cell_type": "markdown",
      "metadata": {
        "id": "AbYZoVVWOZA5",
        "colab_type": "text"
      },
      "source": [
        "Let's setup Spark on your Colab environment.  Run the cell below!"
      ]
    },
    {
      "cell_type": "code",
      "metadata": {
        "id": "dhzk3GE6S9RC",
        "colab_type": "code",
        "outputId": "2e574798-74ae-4cde-b583-e6a0b2ef2b3d",
        "colab": {
          "base_uri": "https://localhost:8080/",
          "height": 292
        }
      },
      "source": [
        "!pip install pyspark\n",
        "!pip install -U -q PyDrive\n",
        "!apt install openjdk-8-jdk-headless -qq\n",
        "import os\n",
        "os.environ[\"JAVA_HOME\"] = \"/usr/lib/jvm/java-8-openjdk-amd64\""
      ],
      "execution_count": 1,
      "outputs": [
        {
          "output_type": "stream",
          "text": [
            "Collecting pyspark\n",
            "\u001b[?25l  Downloading https://files.pythonhosted.org/packages/9a/5a/271c416c1c2185b6cb0151b29a91fff6fcaed80173c8584ff6d20e46b465/pyspark-2.4.5.tar.gz (217.8MB)\n",
            "\u001b[K     |████████████████████████████████| 217.8MB 46kB/s \n",
            "\u001b[?25hCollecting py4j==0.10.7\n",
            "\u001b[?25l  Downloading https://files.pythonhosted.org/packages/e3/53/c737818eb9a7dc32a7cd4f1396e787bd94200c3997c72c1dbe028587bd76/py4j-0.10.7-py2.py3-none-any.whl (197kB)\n",
            "\u001b[K     |████████████████████████████████| 204kB 44.5MB/s \n",
            "\u001b[?25hBuilding wheels for collected packages: pyspark\n",
            "  Building wheel for pyspark (setup.py) ... \u001b[?25l\u001b[?25hdone\n",
            "  Created wheel for pyspark: filename=pyspark-2.4.5-py2.py3-none-any.whl size=218257927 sha256=020245e954157fe87dfbe138bc8031b4c73d8c563512185c4ed02300b6d6f749\n",
            "  Stored in directory: /root/.cache/pip/wheels/bf/db/04/61d66a5939364e756eb1c1be4ec5bdce6e04047fc7929a3c3c\n",
            "Successfully built pyspark\n",
            "Installing collected packages: py4j, pyspark\n",
            "Successfully installed py4j-0.10.7 pyspark-2.4.5\n",
            "openjdk-8-jdk-headless is already the newest version (8u242-b08-0ubuntu3~18.04).\n",
            "0 upgraded, 0 newly installed, 0 to remove and 25 not upgraded.\n"
          ],
          "name": "stdout"
        }
      ]
    },
    {
      "cell_type": "markdown",
      "metadata": {
        "id": "ctU1dYjfOif7",
        "colab_type": "text"
      },
      "source": [
        "Now we authenticate a Google Drive client to download files. Please follow the instruction to enter the authoriztion code.\n"
      ]
    },
    {
      "cell_type": "code",
      "metadata": {
        "id": "1dfnX7IAOkvH",
        "colab_type": "code",
        "colab": {}
      },
      "source": [
        "from pydrive.auth import GoogleAuth\n",
        "from pydrive.drive import GoogleDrive\n",
        "from google.colab import auth\n",
        "from oauth2client.client import GoogleCredentials\n",
        "\n",
        "# Authenticate and create the PyDrive client\n",
        "auth.authenticate_user()\n",
        "gauth = GoogleAuth()\n",
        "gauth.credentials = GoogleCredentials.get_application_default()\n",
        "drive = GoogleDrive(gauth)"
      ],
      "execution_count": 0,
      "outputs": []
    },
    {
      "cell_type": "markdown",
      "metadata": {
        "id": "Kq4vCnP5B5NX",
        "colab_type": "text"
      },
      "source": [
        "Now download the file we will be processing in our Spark job."
      ]
    },
    {
      "cell_type": "code",
      "metadata": {
        "id": "UF5nuSdyTJpc",
        "colab_type": "code",
        "colab": {}
      },
      "source": [
        "id='11xoXxyX1rFB-EabHt1cqRkf5nULcs25t'\n",
        "downloaded = drive.CreateFile({'id': id}) \n",
        "downloaded.GetContentFile('game-clicks.csv.gz') \n",
        "\n",
        "id='1ji6ulH3Q56wGIdCSBgglUQn4-irJXVYX'\n",
        "downloaded = drive.CreateFile({'id': id}) \n",
        "downloaded.GetContentFile('ad-clicks.csv.gz') \n"
      ],
      "execution_count": 0,
      "outputs": []
    },
    {
      "cell_type": "markdown",
      "metadata": {
        "id": "wA49WWqmO5rR",
        "colab_type": "text"
      },
      "source": [
        "If you executed the cells above, you should be able to see the files under the \"Files/content\" folder on the left panel."
      ]
    },
    {
      "cell_type": "markdown",
      "metadata": {
        "id": "Xb7Hv_vQLPGw",
        "colab_type": "text"
      },
      "source": [
        "Import libraries."
      ]
    },
    {
      "cell_type": "code",
      "metadata": {
        "id": "xgQaRx6rSaf9",
        "colab_type": "code",
        "colab": {}
      },
      "source": [
        "import pandas as pd\n",
        "import numpy as np\n",
        "import matplotlib.pyplot as plt\n",
        "%matplotlib inline\n",
        "\n",
        "import pyspark\n",
        "from pyspark.sql import *\n",
        "from pyspark.sql.functions import *\n",
        "from pyspark import SparkContext, SparkConf"
      ],
      "execution_count": 0,
      "outputs": []
    },
    {
      "cell_type": "markdown",
      "metadata": {
        "id": "uUD5XpD_SagA",
        "colab_type": "text"
      },
      "source": [
        "Initialize the Spark context.\n"
      ]
    },
    {
      "cell_type": "code",
      "metadata": {
        "id": "7ft3VivrSagB",
        "colab_type": "code",
        "colab": {}
      },
      "source": [
        "# create the session\n",
        "conf = SparkConf().set(\"spark.ui.port\", \"4050\")\n",
        "\n",
        "# create the context\n",
        "sc = pyspark.SparkContext(conf=conf)\n",
        "spark = SparkSession.builder.getOrCreate()"
      ],
      "execution_count": 0,
      "outputs": []
    },
    {
      "cell_type": "markdown",
      "metadata": {
        "id": "gewv-lKMSagI",
        "colab_type": "text"
      },
      "source": [
        "## **Load `game-clicks` and `ad-clicks` datasets**\n",
        "\n"
      ]
    },
    {
      "cell_type": "markdown",
      "metadata": {
        "id": "VSWoULeWSagJ",
        "colab_type": "text"
      },
      "source": [
        "Load the datasets:"
      ]
    },
    {
      "cell_type": "code",
      "metadata": {
        "id": "XLyVPuLXSagK",
        "colab_type": "code",
        "colab": {}
      },
      "source": [
        "gameclicks = spark.read.csv(\"game-clicks.csv.gz\", header='true')\n",
        "adclicks = spark.read.csv(\"ad-clicks.csv.gz\", header='true')"
      ],
      "execution_count": 0,
      "outputs": []
    },
    {
      "cell_type": "markdown",
      "metadata": {
        "id": "MP2JmCeoSagM",
        "colab_type": "text"
      },
      "source": [
        "Check the schemas:"
      ]
    },
    {
      "cell_type": "code",
      "metadata": {
        "id": "KpUT8viNSagM",
        "colab_type": "code",
        "outputId": "4567057c-a367-41b1-8a95-7a1925d1dc05",
        "colab": {
          "base_uri": "https://localhost:8080/",
          "height": 170
        }
      },
      "source": [
        "gameclicks.printSchema()"
      ],
      "execution_count": 8,
      "outputs": [
        {
          "output_type": "stream",
          "text": [
            "root\n",
            " |-- timestamp: string (nullable = true)\n",
            " |-- clickId: string (nullable = true)\n",
            " |-- userId: string (nullable = true)\n",
            " |-- userSessionId: string (nullable = true)\n",
            " |-- isHit: string (nullable = true)\n",
            " |-- teamId: string (nullable = true)\n",
            " |-- teamLevel: string (nullable = true)\n",
            "\n"
          ],
          "name": "stdout"
        }
      ]
    },
    {
      "cell_type": "code",
      "metadata": {
        "id": "MoZR24RIXTuf",
        "colab_type": "code",
        "outputId": "ec748b21-cf6d-41d1-9119-9ecd5e77e542",
        "colab": {
          "base_uri": "https://localhost:8080/",
          "height": 170
        }
      },
      "source": [
        "adclicks.printSchema()"
      ],
      "execution_count": 9,
      "outputs": [
        {
          "output_type": "stream",
          "text": [
            "root\n",
            " |-- timestamp: string (nullable = true)\n",
            " |-- txId: string (nullable = true)\n",
            " |-- userSessionId: string (nullable = true)\n",
            " |-- teamId: string (nullable = true)\n",
            " |-- userId: string (nullable = true)\n",
            " |-- adId: string (nullable = true)\n",
            " |-- adCategory: string (nullable = true)\n",
            "\n"
          ],
          "name": "stdout"
        }
      ]
    },
    {
      "cell_type": "markdown",
      "metadata": {
        "id": "iu7n8KKjSagS",
        "colab_type": "text"
      },
      "source": [
        "Get a formatted sample with `show()`:"
      ]
    },
    {
      "cell_type": "code",
      "metadata": {
        "id": "nwYZrwanSagT",
        "colab_type": "code",
        "colab": {
          "base_uri": "https://localhost:8080/",
          "height": 459
        },
        "outputId": "24b0d9e3-efc0-4de6-c913-3563be7be9c5"
      },
      "source": [
        "gameclicks.show()"
      ],
      "execution_count": 10,
      "outputs": [
        {
          "output_type": "stream",
          "text": [
            "+-------------------+-------+------+-------------+-----+------+---------+\n",
            "|          timestamp|clickId|userId|userSessionId|isHit|teamId|teamLevel|\n",
            "+-------------------+-------+------+-------------+-----+------+---------+\n",
            "|2016-05-26 15:06:55|    105|  1038|         5916|    0|    25|        1|\n",
            "|2016-05-26 15:07:09|    154|  1099|         5898|    0|    44|        1|\n",
            "|2016-05-26 15:07:14|    229|   899|         5757|    0|    71|        1|\n",
            "|2016-05-26 15:07:14|    322|  2197|         5854|    0|    99|        1|\n",
            "|2016-05-26 15:07:20|     22|  1362|         5739|    0|    13|        1|\n",
            "|2016-05-26 15:07:27|    107|  1071|         5939|    0|    27|        1|\n",
            "|2016-05-26 15:07:30|    289|  2359|         5764|    0|    85|        1|\n",
            "|2016-05-26 15:07:30|    301|  1243|         5900|    0|    86|        1|\n",
            "|2016-05-26 15:07:47|    274|  1628|         5896|    0|    82|        1|\n",
            "|2016-05-26 15:07:48|     66|   453|         5662|    0|    20|        1|\n",
            "|2016-05-26 15:07:49|    124|  2336|         5761|    0|    32|        1|\n",
            "|2016-05-26 15:07:53|    204|  1664|         5831|    0|    69|        1|\n",
            "|2016-05-26 15:07:58|    162|   243|         5943|    0|    54|        1|\n",
            "|2016-05-26 15:08:02|    308|  2333|         5701|    0|    90|        1|\n",
            "|2016-05-26 15:08:03|    160|   181|         5787|    0|    53|        1|\n",
            "|2016-05-26 15:08:04|    183|   212|         5756|    0|    63|        1|\n",
            "|2016-05-26 15:08:12|    314|  1142|         5871|    0|    93|        1|\n",
            "|2016-05-26 15:08:13|    171|  1085|         5882|    0|    61|        1|\n",
            "|2016-05-26 15:08:16|     67|  1215|         5905|    0|    20|        1|\n",
            "|2016-05-26 15:08:23|    332|  2306|         5783|    0|   100|        1|\n",
            "+-------------------+-------+------+-------------+-----+------+---------+\n",
            "only showing top 20 rows\n",
            "\n"
          ],
          "name": "stdout"
        }
      ]
    },
    {
      "cell_type": "markdown",
      "metadata": {
        "id": "CaWkvdItzWeW",
        "colab_type": "text"
      },
      "source": [
        "Find the number of records:"
      ]
    },
    {
      "cell_type": "code",
      "metadata": {
        "id": "hMAab2rJSagU",
        "colab_type": "code",
        "outputId": "6be97459-6d87-44a4-898d-abca34d28d5d",
        "colab": {
          "base_uri": "https://localhost:8080/",
          "height": 51
        }
      },
      "source": [
        "print(\"In total there are {0} game clicks\".format(gameclicks.count()))\n",
        "\n",
        "print(\"In total there are {0} ad clicks\".format(adclicks.count()))\n"
      ],
      "execution_count": 11,
      "outputs": [
        {
          "output_type": "stream",
          "text": [
            "In total there are 755806 game clicks\n",
            "In total there are 16323 ad clicks\n"
          ],
          "name": "stdout"
        }
      ]
    },
    {
      "cell_type": "markdown",
      "metadata": {
        "id": "hkKWEEcLSagW",
        "colab_type": "text"
      },
      "source": [
        "## **Question 1: How many users in each team?**\n",
        "Keywords: `Dataframe API`, `SQL`, `group by`, `sort`"
      ]
    },
    {
      "cell_type": "markdown",
      "metadata": {
        "id": "MwPL1-P5SagW",
        "colab_type": "text"
      },
      "source": [
        "Use DataFrame API to group the users by `teamID` and count how many distinct users in each team. Sort the result in descending order."
      ]
    },
    {
      "cell_type": "code",
      "metadata": {
        "scrolled": true,
        "id": "BWcMVcgwSagX",
        "colab_type": "code",
        "outputId": "c0c8c4dd-cb61-479e-b50f-eeb16b3a3dd7",
        "colab": {
          "base_uri": "https://localhost:8080/",
          "height": 459
        }
      },
      "source": [
        "team_counts = gameclicks.groupBy(\"teamId\").agg(countDistinct(\"userId\")).orderBy('count(DISTINCT userId)', ascending = False)\n",
        "\n",
        "team_counts.show()"
      ],
      "execution_count": 14,
      "outputs": [
        {
          "output_type": "stream",
          "text": [
            "+------+----------------------+\n",
            "|teamId|count(DISTINCT userId)|\n",
            "+------+----------------------+\n",
            "|    22|                    33|\n",
            "|    53|                    26|\n",
            "|    18|                    25|\n",
            "|    64|                    25|\n",
            "|    35|                    23|\n",
            "|    27|                    21|\n",
            "|    86|                    21|\n",
            "|    71|                    21|\n",
            "|    72|                    21|\n",
            "|    84|                    20|\n",
            "|     9|                    20|\n",
            "|    99|                    20|\n",
            "|    36|                    19|\n",
            "|    13|                    19|\n",
            "|    74|                    19|\n",
            "|    77|                    19|\n",
            "|    70|                    18|\n",
            "|    97|                    18|\n",
            "|    75|                    18|\n",
            "|    66|                    18|\n",
            "+------+----------------------+\n",
            "only showing top 20 rows\n",
            "\n"
          ],
          "name": "stdout"
        }
      ]
    },
    {
      "cell_type": "markdown",
      "metadata": {
        "id": "t5trEAkzSagY",
        "colab_type": "text"
      },
      "source": [
        "# Now rewrite the above question using pure SQL:"
      ]
    },
    {
      "cell_type": "code",
      "metadata": {
        "id": "3slo-sXOSagZ",
        "colab_type": "code",
        "outputId": "62bf07f2-3826-4c13-c15e-40fb041dd04d",
        "colab": {
          "base_uri": "https://localhost:8080/",
          "height": 459
        }
      },
      "source": [
        "gameclicks.registerTempTable(\"gameclicks\")\n",
        "\n",
        "query = \"\"\"SELECT count(distinct userId) as count, teamId\n",
        "FROM gameclicks\n",
        "GROUP BY teamId\n",
        "ORDER BY count desc\"\"\"\n",
        "\n",
        "team_counts = spark.sql(query)\n",
        "team_counts.show()"
      ],
      "execution_count": 15,
      "outputs": [
        {
          "output_type": "stream",
          "text": [
            "+-----+------+\n",
            "|count|teamId|\n",
            "+-----+------+\n",
            "|   33|    22|\n",
            "|   26|    53|\n",
            "|   25|    64|\n",
            "|   25|    18|\n",
            "|   23|    35|\n",
            "|   21|    72|\n",
            "|   21|    71|\n",
            "|   21|    27|\n",
            "|   21|    86|\n",
            "|   20|    84|\n",
            "|   20|    99|\n",
            "|   20|     9|\n",
            "|   19|    77|\n",
            "|   19|    36|\n",
            "|   19|    13|\n",
            "|   19|    74|\n",
            "|   18|    66|\n",
            "|   18|   104|\n",
            "|   18|    51|\n",
            "|   18|    75|\n",
            "+-----+------+\n",
            "only showing top 20 rows\n",
            "\n"
          ],
          "name": "stdout"
        }
      ]
    },
    {
      "cell_type": "markdown",
      "metadata": {
        "id": "5wQNXQnOSaga",
        "colab_type": "text"
      },
      "source": [
        "##The `team_counts` Dataframe is small enough to be moved to Pandas:"
      ]
    },
    {
      "cell_type": "code",
      "metadata": {
        "id": "4nVJdPLDSagb",
        "colab_type": "code",
        "outputId": "95f90fe4-ba6c-49e8-a2ef-a71924949a9b",
        "colab": {
          "base_uri": "https://localhost:8080/",
          "height": 204
        }
      },
      "source": [
        "team_counts_pd = team_counts.toPandas()\n",
        "team_counts_pd.head()"
      ],
      "execution_count": 16,
      "outputs": [
        {
          "output_type": "execute_result",
          "data": {
            "text/html": [
              "<div>\n",
              "<style scoped>\n",
              "    .dataframe tbody tr th:only-of-type {\n",
              "        vertical-align: middle;\n",
              "    }\n",
              "\n",
              "    .dataframe tbody tr th {\n",
              "        vertical-align: top;\n",
              "    }\n",
              "\n",
              "    .dataframe thead th {\n",
              "        text-align: right;\n",
              "    }\n",
              "</style>\n",
              "<table border=\"1\" class=\"dataframe\">\n",
              "  <thead>\n",
              "    <tr style=\"text-align: right;\">\n",
              "      <th></th>\n",
              "      <th>count</th>\n",
              "      <th>teamId</th>\n",
              "    </tr>\n",
              "  </thead>\n",
              "  <tbody>\n",
              "    <tr>\n",
              "      <th>0</th>\n",
              "      <td>33</td>\n",
              "      <td>22</td>\n",
              "    </tr>\n",
              "    <tr>\n",
              "      <th>1</th>\n",
              "      <td>26</td>\n",
              "      <td>53</td>\n",
              "    </tr>\n",
              "    <tr>\n",
              "      <th>2</th>\n",
              "      <td>25</td>\n",
              "      <td>64</td>\n",
              "    </tr>\n",
              "    <tr>\n",
              "      <th>3</th>\n",
              "      <td>25</td>\n",
              "      <td>18</td>\n",
              "    </tr>\n",
              "    <tr>\n",
              "      <th>4</th>\n",
              "      <td>23</td>\n",
              "      <td>35</td>\n",
              "    </tr>\n",
              "  </tbody>\n",
              "</table>\n",
              "</div>"
            ],
            "text/plain": [
              "   count teamId\n",
              "0     33     22\n",
              "1     26     53\n",
              "2     25     64\n",
              "3     25     18\n",
              "4     23     35"
            ]
          },
          "metadata": {
            "tags": []
          },
          "execution_count": 16
        }
      ]
    },
    {
      "cell_type": "markdown",
      "metadata": {
        "id": "VQedtuQZSagc",
        "colab_type": "text"
      },
      "source": [
        "##Plot a histogram using the number of users by team:"
      ]
    },
    {
      "cell_type": "code",
      "metadata": {
        "id": "tgbceprDSagd",
        "colab_type": "code",
        "outputId": "df19403e-4d48-4476-b06d-e3807d7e52a6",
        "colab": {
          "base_uri": "https://localhost:8080/",
          "height": 312
        }
      },
      "source": [
        "histoplot = team_counts_pd.plot.hist(stacked = True, bins =10, color = 'green')\n",
        "histoplot.set_title(\"Histogram on user numbers\")\n",
        "histoplot.set_xlabel(\"Number of Teams\")\n",
        "histoplot.set_ylabel(\"NUmber of Users\")\n"
      ],
      "execution_count": 17,
      "outputs": [
        {
          "output_type": "execute_result",
          "data": {
            "text/plain": [
              "Text(0, 0.5, 'NUmber of Users')"
            ]
          },
          "metadata": {
            "tags": []
          },
          "execution_count": 17
        },
        {
          "output_type": "display_data",
          "data": {
            "image/png": "[encoded data removed]",
            "text/plain": [
              "<Figure size 432x288 with 1 Axes>"
            ]
          },
          "metadata": {
            "tags": [],
            "needs_background": "light"
          }
        }
      ]
    },
    {
      "cell_type": "markdown",
      "metadata": {
        "id": "1jCZfwK2Sage",
        "colab_type": "text"
      },
      "source": [
        "----"
      ]
    },
    {
      "cell_type": "markdown",
      "metadata": {
        "id": "LLan66cXSagf",
        "colab_type": "text"
      },
      "source": [
        "## **Questions 2: Now use the `ad-clicks` dataset to find the number of ad clicks in each hour.**\n",
        "\n",
        "Keywords: `group by`, `parse timestamp`, `plot`"
      ]
    },
    {
      "cell_type": "code",
      "metadata": {
        "id": "BXNKt5PHSagf",
        "colab_type": "code",
        "outputId": "74428e03-49e9-4509-bf28-54a7d90a8ab5",
        "colab": {
          "base_uri": "https://localhost:8080/",
          "height": 510
        }
      },
      "source": [
        "timestamp_only = adclicks.selectExpr([\"to_timestamp(timestamp) as timestamp\"])\n",
        "\n",
        "click_count_by_hour = timestamp_only.groupBy(hour('timestamp').alias(\"hour\"))\\\n",
        ".agg(count('*').alias(\"ClickCount\")).sort(\"hour\")\n",
        "\n",
        "click_count_by_hour.show(24) "
      ],
      "execution_count": 20,
      "outputs": [
        {
          "output_type": "stream",
          "text": [
            "+----+----------+\n",
            "|hour|ClickCount|\n",
            "+----+----------+\n",
            "|   0|       605|\n",
            "|   1|       728|\n",
            "|   2|       633|\n",
            "|   3|       552|\n",
            "|   4|       614|\n",
            "|   5|       691|\n",
            "|   6|       710|\n",
            "|   7|       704|\n",
            "|   8|       726|\n",
            "|   9|       799|\n",
            "|  10|       705|\n",
            "|  11|       648|\n",
            "|  12|       714|\n",
            "|  13|       647|\n",
            "|  14|       623|\n",
            "|  15|       695|\n",
            "|  16|       707|\n",
            "|  17|       662|\n",
            "|  18|       686|\n",
            "|  19|       603|\n",
            "|  20|       675|\n",
            "|  21|       756|\n",
            "|  22|       696|\n",
            "|  23|       744|\n",
            "+----+----------+\n",
            "\n"
          ],
          "name": "stdout"
        }
      ]
    },
    {
      "cell_type": "markdown",
      "metadata": {
        "id": "IAhOE55wSagj",
        "colab_type": "text"
      },
      "source": [
        "# Use line plot to show the number of clicks by hour:"
      ]
    },
    {
      "cell_type": "code",
      "metadata": {
        "id": "wLq6ulAySagl",
        "colab_type": "code",
        "outputId": "e121cfad-d55a-4a85-db4c-a9a7d29eb706",
        "colab": {
          "base_uri": "https://localhost:8080/",
          "height": 312
        }
      },
      "source": [
        "chrpd = click_count_by_hour.toPandas()\n",
        "lp = chrpd.plot(kind = \"line\", x = \"hour\", y = \"ClickCount\", color = \"olive\")\n",
        "lp.set_title(\"Number of Clicks by Hour\")\n",
        "lp.set_ylabel(\"Number of Clicks\")\n",
        "lp.set_xlabel(\"hour\")\n"
      ],
      "execution_count": 23,
      "outputs": [
        {
          "output_type": "execute_result",
          "data": {
            "text/plain": [
              "Text(0.5, 0, 'hour')"
            ]
          },
          "metadata": {
            "tags": []
          },
          "execution_count": 23
        },
        {
          "output_type": "display_data",
          "data": {
            "image/png": "[encoded data removed]",
            "text/plain": [
              "<Figure size 432x288 with 1 Axes>"
            ]
          },
          "metadata": {
            "tags": [],
            "needs_background": "light"
          }
        }
      ]
    },
    {
      "cell_type": "markdown",
      "metadata": {
        "id": "uEwBspLySagp",
        "colab_type": "text"
      },
      "source": [
        "## Question 3: Use `map` and `reduce` with RDD\n",
        "\n",
        "Keywords: `RDD map reduce`"
      ]
    },
    {
      "cell_type": "markdown",
      "metadata": {
        "id": "HmGQaFp21sux",
        "colab_type": "text"
      },
      "source": [
        "Now we want to find the number of clicks of each `adCategorory` using `map` and `reduce` with RDD. Since we only care the `adCategory`, let's select this column only."
      ]
    },
    {
      "cell_type": "code",
      "metadata": {
        "id": "a-T5uROOtYq9",
        "colab_type": "code",
        "outputId": "490b4606-5f61-44e8-f4cf-831ae6966058",
        "colab": {
          "base_uri": "https://localhost:8080/",
          "height": 289
        }
      },
      "source": [
        "categoryOnly = adclicks.select(\"adCategory\")\n",
        "categoryOnly.show(10)\n"
      ],
      "execution_count": 24,
      "outputs": [
        {
          "output_type": "stream",
          "text": [
            "+-----------+\n",
            "| adCategory|\n",
            "+-----------+\n",
            "|electronics|\n",
            "|     movies|\n",
            "|  computers|\n",
            "|    fashion|\n",
            "|   clothing|\n",
            "|      games|\n",
            "|     movies|\n",
            "|electronics|\n",
            "|electronics|\n",
            "|  computers|\n",
            "+-----------+\n",
            "only showing top 10 rows\n",
            "\n"
          ],
          "name": "stdout"
        }
      ]
    },
    {
      "cell_type": "markdown",
      "metadata": {
        "id": "2PHZStWQSag9",
        "colab_type": "text"
      },
      "source": [
        "Now use explicit Map/Reduce format with RDDs.\n",
        "\n",
        "First we emit a pair in the format (`adCategory`, 1):"
      ]
    },
    {
      "cell_type": "code",
      "metadata": {
        "id": "OgEeKdtYSag9",
        "colab_type": "code",
        "outputId": "2bf89693-246c-422d-a023-2f92f893d706",
        "colab": {
          "base_uri": "https://localhost:8080/",
          "height": 102
        }
      },
      "source": [
        "all_categories = categoryOnly.rdd.map(lambda row: (row.adCategory,1))\n",
        "all_categories.take(5)"
      ],
      "execution_count": 29,
      "outputs": [
        {
          "output_type": "execute_result",
          "data": {
            "text/plain": [
              "[('electronics', 1),\n",
              " ('movies', 1),\n",
              " ('computers', 1),\n",
              " ('fashion', 1),\n",
              " ('clothing', 1)]"
            ]
          },
          "metadata": {
            "tags": []
          },
          "execution_count": 29
        }
      ]
    },
    {
      "cell_type": "markdown",
      "metadata": {
        "id": "vM2pjry8wcF7",
        "colab_type": "text"
      },
      "source": [
        "Then, we sum counters in the reduce step, and we sort by count:"
      ]
    },
    {
      "cell_type": "code",
      "metadata": {
        "id": "_hVvIF_WSag_",
        "colab_type": "code",
        "outputId": "5209d56f-66b2-4f36-9208-b31c8ee9a3b9",
        "colab": {
          "base_uri": "https://localhost:8080/",
          "height": 34
        }
      },
      "source": [
        "category_counts_rdd = all_categories.reduceByKey(lambda a,b: a+b).sortBy(lambda r: -r[1])\n",
        "category_counts_rdd.take(3)"
      ],
      "execution_count": 35,
      "outputs": [
        {
          "output_type": "execute_result",
          "data": {
            "text/plain": [
              "[('computers', 2638), ('games', 2601), ('clothing', 2340)]"
            ]
          },
          "metadata": {
            "tags": []
          },
          "execution_count": 35
        }
      ]
    },
    {
      "cell_type": "markdown",
      "metadata": {
        "id": "od5h9c6qSahB",
        "colab_type": "text"
      },
      "source": [
        "Now we can convert the RDD in dataframe by mapping the pairs to objects of type `Row`"
      ]
    },
    {
      "cell_type": "code",
      "metadata": {
        "id": "KNDn84R_SahB",
        "colab_type": "code",
        "outputId": "e2d9a138-5fc9-4faf-b62e-820ba1f3a078",
        "colab": {
          "base_uri": "https://localhost:8080/",
          "height": 255
        }
      },
      "source": [
        "category_counts_with_schema = category_counts_rdd.map(lambda r: Row(adCategory=r[0], NumOfCategories =r[1]))\n",
        "category_counts = spark.createDataFrame(category_counts_with_schema)\n",
        "category_counts.show()"
      ],
      "execution_count": 38,
      "outputs": [
        {
          "output_type": "stream",
          "text": [
            "+---------------+-----------+\n",
            "|NumOfCategories| adCategory|\n",
            "+---------------+-----------+\n",
            "|           2638|  computers|\n",
            "|           2601|      games|\n",
            "|           2340|   clothing|\n",
            "|           2074|     sports|\n",
            "|           1727|    fashion|\n",
            "|           1692|     movies|\n",
            "|           1588|   hardware|\n",
            "|           1097|electronics|\n",
            "|            566| automotive|\n",
            "+---------------+-----------+\n",
            "\n"
          ],
          "name": "stdout"
        }
      ]
    },
    {
      "cell_type": "markdown",
      "metadata": {
        "id": "LuhTAGKXylHE",
        "colab_type": "text"
      },
      "source": [
        "Now use SparkSQL to verify the above result:"
      ]
    },
    {
      "cell_type": "code",
      "metadata": {
        "colab_type": "code",
        "outputId": "1a41bc97-4150-4e6c-dd8c-948e4c2a71b6",
        "id": "9nFc6vixyeCT",
        "colab": {
          "base_uri": "https://localhost:8080/",
          "height": 255
        }
      },
      "source": [
        "#print(adclicks.count())\n",
        "\n",
        "adclicks.registerTempTable(\"adclicks\")\n",
        "\n",
        "query = \"\"\"SELECT adCategory, count(adID) as NumOfCategories FROM adclicks\n",
        "GROUP BY adCategory\n",
        "ORDER BY NumOfCategories desc\n",
        "\"\"\"\n",
        "\n",
        "category_counts = spark.sql(query)\n",
        "category_counts.show()\n"
      ],
      "execution_count": 44,
      "outputs": [
        {
          "output_type": "stream",
          "text": [
            "+-----------+---------------+\n",
            "| adCategory|NumOfCategories|\n",
            "+-----------+---------------+\n",
            "|  computers|           2638|\n",
            "|      games|           2601|\n",
            "|   clothing|           2340|\n",
            "|     sports|           2074|\n",
            "|    fashion|           1727|\n",
            "|     movies|           1692|\n",
            "|   hardware|           1588|\n",
            "|electronics|           1097|\n",
            "| automotive|            566|\n",
            "+-----------+---------------+\n",
            "\n"
          ],
          "name": "stdout"
        }
      ]
    },
    {
      "cell_type": "markdown",
      "metadata": {
        "id": "xYzcpVwR3SyZ",
        "colab_type": "text"
      },
      "source": [
        "#Congratulations on the first Spark assignment!"
      ]
    }
  ]
}